{
 "cells": [
  {
   "cell_type": "code",
   "execution_count": 1,
   "metadata": {},
   "outputs": [],
   "source": [
    "# Que 1\n"
   ]
  },
  {
   "cell_type": "code",
   "execution_count": 8,
   "metadata": {},
   "outputs": [],
   "source": [
    "class bankAcc():\n",
    "    def __init__(self,ownerName,bal):\n",
    "        self.owerName = ownerName\n",
    "        self.bal = bal\n",
    "    \n",
    "    def deposit(self,d):\n",
    "        self.bal += d\n",
    "        print(\"you have added \"+str(d)+\" to your accont\")\n",
    "        print(\"your current balance is \",self.bal)\n",
    "        \n",
    "    def withdrawal(self,w):\n",
    "        if w>self.bal:\n",
    "            return \"You have insuffficient balance\"\n",
    "        else:\n",
    "            self.bal-=w\n",
    "            print(\"you withdral amount is \"+str(w)+\" your current bal is \"+str(self.bal))"
   ]
  },
  {
   "cell_type": "code",
   "execution_count": 9,
   "metadata": {},
   "outputs": [],
   "source": [
    "ac =bankAcc(\"Rhuddhi\",15000)"
   ]
  },
  {
   "cell_type": "code",
   "execution_count": 10,
   "metadata": {},
   "outputs": [
    {
     "name": "stdout",
     "output_type": "stream",
     "text": [
      "you have added 2000 to your accont\n",
      "your current balance is  17000\n"
     ]
    }
   ],
   "source": [
    "ac.deposit(2000)\n"
   ]
  },
  {
   "cell_type": "code",
   "execution_count": 12,
   "metadata": {},
   "outputs": [
    {
     "name": "stdout",
     "output_type": "stream",
     "text": [
      "you withdral amount is 1000 your current bal is 16000\n"
     ]
    }
   ],
   "source": [
    "ac.withdrawal(1000)"
   ]
  },
  {
   "cell_type": "code",
   "execution_count": 13,
   "metadata": {},
   "outputs": [],
   "source": [
    "# Que 2"
   ]
  },
  {
   "cell_type": "code",
   "execution_count": 14,
   "metadata": {},
   "outputs": [],
   "source": [
    "import math\n",
    "class cone():\n",
    "    def __init__(self,radius,height):\n",
    "        self.radius = radius\n",
    "        self.height = height\n",
    "        \n",
    "    def volume(self):\n",
    "        vol = 1/3 *3.14*(self.radius**2)*self.height\n",
    "        return  vol\n",
    "    def surfaceArea(self):\n",
    "        surfaceA = 3.14*self.radius*(self.radius + math.sqrt(self.height**2+self.radius**2))\n",
    "        return surfaceA\n",
    "        "
   ]
  },
  {
   "cell_type": "code",
   "execution_count": 19,
   "metadata": {},
   "outputs": [],
   "source": [
    "ans = cone(4,8)"
   ]
  },
  {
   "cell_type": "code",
   "execution_count": 20,
   "metadata": {},
   "outputs": [
    {
     "data": {
      "text/plain": [
       "133.97333333333333"
      ]
     },
     "execution_count": 20,
     "metadata": {},
     "output_type": "execute_result"
    }
   ],
   "source": [
    "ans.volume()"
   ]
  },
  {
   "cell_type": "code",
   "execution_count": 21,
   "metadata": {},
   "outputs": [
    {
     "data": {
      "text/plain": [
       "162.58005518958944"
      ]
     },
     "execution_count": 21,
     "metadata": {},
     "output_type": "execute_result"
    }
   ],
   "source": [
    "ans.surfaceArea()"
   ]
  },
  {
   "cell_type": "code",
   "execution_count": null,
   "metadata": {},
   "outputs": [],
   "source": []
  }
 ],
 "metadata": {
  "kernelspec": {
   "display_name": "Python 3",
   "language": "python",
   "name": "python3"
  },
  "language_info": {
   "codemirror_mode": {
    "name": "ipython",
    "version": 3
   },
   "file_extension": ".py",
   "mimetype": "text/x-python",
   "name": "python",
   "nbconvert_exporter": "python",
   "pygments_lexer": "ipython3",
   "version": "3.8.3"
  }
 },
 "nbformat": 4,
 "nbformat_minor": 4
}
