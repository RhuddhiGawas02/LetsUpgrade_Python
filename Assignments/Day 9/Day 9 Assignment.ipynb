{
 "cells": [
  {
   "cell_type": "code",
   "execution_count": 12,
   "metadata": {},
   "outputs": [],
   "source": [
    "#b QUE 1"
   ]
  },
  {
   "cell_type": "code",
   "execution_count": 13,
   "metadata": {},
   "outputs": [],
   "source": [
    "def prime_number(n):\n",
    "    if n > 1:\n",
    "        for i in range(2, n):\n",
    "            if (n % i) == 0:\n",
    "                print(n, \" is not a prime number\")\n",
    "            else:\n",
    "                print(n, \" is a prime number\")\n",
    "\n",
    "    else:\n",
    "        print(n, \"is not a prime number\")"
   ]
  },
  {
   "cell_type": "code",
   "execution_count": 14,
   "metadata": {},
   "outputs": [
    {
     "name": "stdout",
     "output_type": "stream",
     "text": [
      "************* Module checkprime.py\n",
      "checkprime.py:1:0: F0001: No module named checkprime.py (fatal)\n"
     ]
    }
   ],
   "source": [
    "\n",
    "! pylint \"checkprime.py\""
   ]
  },
  {
   "cell_type": "code",
   "execution_count": 15,
   "metadata": {},
   "outputs": [
    {
     "name": "stdout",
     "output_type": "stream",
     "text": [
      "Overwriting prime-checkr.py\n"
     ]
    }
   ],
   "source": [
    "\n",
    "%%writefile prime-checkr.py\n",
    "import unittest\n",
    "\n",
    "class primecheckr(unittest.TestCase):\n",
    "    def check_prime(self,num):\n",
    "        if num > 1:\n",
    "            for i in range(2, num):\n",
    "                if (num % i) == 0:\n",
    "                    print(num, \"is not a prime number\")\n",
    "                else:\n",
    "                    print(num, \"is a prime number\")\n",
    "\n",
    "        else:\n",
    "            print(num, \"is not a prime number\")\n",
    "        \n",
    "    def ansckr(self):\n",
    "        check_prime(2)\n",
    "        result = \"is a prime number\"\n",
    "        self.assertEquals(result,\"is a prime number\")\n",
    "        \n",
    "\n",
    "    \n",
    "unittest.main(argv=['first-arg-is-ignored'], exit=False)"
   ]
  },
  {
   "cell_type": "code",
   "execution_count": 16,
   "metadata": {},
   "outputs": [
    {
     "name": "stderr",
     "output_type": "stream",
     "text": [
      "\n",
      "----------------------------------------------------------------------\n",
      "Ran 0 tests in 0.000s\n",
      "\n",
      "OK\n"
     ]
    }
   ],
   "source": [
    "! python prime-checkr.py"
   ]
  },
  {
   "cell_type": "code",
   "execution_count": null,
   "metadata": {},
   "outputs": [],
   "source": [
    "# QUE 2"
   ]
  },
  {
   "cell_type": "code",
   "execution_count": 24,
   "metadata": {},
   "outputs": [],
   "source": [
    "def armstrongNumcheckr(n):\n",
    "\n",
    "# initialize sum\n",
    "    sum = 0\n",
    "\n",
    "# find the sum of the cube of each digit\n",
    "    temp = n\n",
    "    while temp > 0:\n",
    "        rev = temp % 10\n",
    "        sum += rev ** 3\n",
    "        temp //= 10\n",
    "\n",
    "# display the result\n",
    "    if n == sum:\n",
    "        return n"
   ]
  },
  {
   "cell_type": "code",
   "execution_count": 25,
   "metadata": {},
   "outputs": [
    {
     "data": {
      "text/plain": [
       "153"
      ]
     },
     "execution_count": 25,
     "metadata": {},
     "output_type": "execute_result"
    }
   ],
   "source": [
    "armstrongNumcheckr(153)"
   ]
  },
  {
   "cell_type": "code",
   "execution_count": 26,
   "metadata": {},
   "outputs": [],
   "source": [
    "lst = list(range(1,1001))"
   ]
  },
  {
   "cell_type": "code",
   "execution_count": 29,
   "metadata": {},
   "outputs": [],
   "source": [
    "def ArmStrongNumber(lst):\n",
    "    for i in lst:\n",
    "        sum = 0\n",
    "        temp = i\n",
    "        while temp > 0:\n",
    "            rev = temp % 10\n",
    "            sum += rev ** 3\n",
    "            temp //= 10\n",
    "        if i == sum:\n",
    "            yield i"
   ]
  },
  {
   "cell_type": "code",
   "execution_count": 30,
   "metadata": {},
   "outputs": [
    {
     "name": "stdout",
     "output_type": "stream",
     "text": [
      "[1, 153, 370, 371, 407]\n"
     ]
    }
   ],
   "source": [
    "\n",
    "print(list(ArmStrongNumber(lst)))"
   ]
  },
  {
   "cell_type": "code",
   "execution_count": null,
   "metadata": {},
   "outputs": [],
   "source": []
  },
  {
   "cell_type": "code",
   "execution_count": null,
   "metadata": {},
   "outputs": [],
   "source": []
  },
  {
   "cell_type": "code",
   "execution_count": null,
   "metadata": {},
   "outputs": [],
   "source": []
  },
  {
   "cell_type": "code",
   "execution_count": null,
   "metadata": {},
   "outputs": [],
   "source": []
  }
 ],
 "metadata": {
  "kernelspec": {
   "display_name": "Python 3",
   "language": "python",
   "name": "python3"
  },
  "language_info": {
   "codemirror_mode": {
    "name": "ipython",
    "version": 3
   },
   "file_extension": ".py",
   "mimetype": "text/x-python",
   "name": "python",
   "nbconvert_exporter": "python",
   "pygments_lexer": "ipython3",
   "version": "3.8.3"
  }
 },
 "nbformat": 4,
 "nbformat_minor": 4
}
